{
 "cells": [
  {
   "cell_type": "markdown",
   "id": "f0901a34",
   "metadata": {},
   "source": [
    "schema design:\n",
    "\n",
    "Article(\"ar_ID\", title, url, au_ID, type, scraped_at, updated_at)\n",
    "#AuthorTo(Name,\"ar_ID\")\n",
    "KeywordTo(\"keyword\", \"article\")\n",
    "WordIn(\"word\", \"article\", amount)\n",
    "\n",
    "do we db-ify vocab? [yes]\n",
    "do we add value checks?"
   ]
  },
  {
   "cell_type": "code",
   "execution_count": null,
   "id": "f6ad405d",
   "metadata": {},
   "outputs": [],
   "source": [
    "from postgres import Postgres"
   ]
  },
  {
   "cell_type": "code",
   "execution_count": null,
   "id": "8d49f458",
   "metadata": {},
   "outputs": [],
   "source": []
  }
 ],
 "metadata": {
  "kernelspec": {
   "display_name": "Python 3 (ipykernel)",
   "language": "python",
   "name": "python3"
  },
  "language_info": {
   "codemirror_mode": {
    "name": "ipython",
    "version": 3
   },
   "file_extension": ".py",
   "mimetype": "text/x-python",
   "name": "python",
   "nbconvert_exporter": "python",
   "pygments_lexer": "ipython3",
   "version": "3.10.2"
  }
 },
 "nbformat": 4,
 "nbformat_minor": 5
}
