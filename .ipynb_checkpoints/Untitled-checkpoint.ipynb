{
 "cells": [
  {
   "cell_type": "markdown",
   "id": "aa049832",
   "metadata": {},
   "source": [
    "schema design:\n",
    "\n",
    "Article(ArID, url, AuID, )\n",
    "Author\n",
    "\n",
    "do we db-ify vocab? [yes]\n",
    "do we add value checks?"
   ]
  },
  {
   "cell_type": "code",
   "execution_count": null,
   "id": "b78664f5",
   "metadata": {},
   "outputs": [],
   "source": [
    "from postgres import Postgres"
   ]
  },
  {
   "cell_type": "code",
   "execution_count": null,
   "id": "fe8644ac",
   "metadata": {},
   "outputs": [],
   "source": []
  }
 ],
 "metadata": {
  "kernelspec": {
   "display_name": "Python 3 (ipykernel)",
   "language": "python",
   "name": "python3"
  },
  "language_info": {
   "codemirror_mode": {
    "name": "ipython",
    "version": 3
   },
   "file_extension": ".py",
   "mimetype": "text/x-python",
   "name": "python",
   "nbconvert_exporter": "python",
   "pygments_lexer": "ipython3",
   "version": "3.10.2"
  }
 },
 "nbformat": 4,
 "nbformat_minor": 5
}
