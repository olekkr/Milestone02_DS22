{
 "cells": [
  {
   "cell_type": "markdown",
   "id": "f0901a34",
   "metadata": {},
   "source": [
    "schema design:\n",
    "\n",
    "Article(\"ar_ID\", title, url, type, scraped_at, updated_at)\n",
    "AuthorTo(Name,\"ar_ID\")\n",
    "KeywordTo(\"keyword\", \"article\")\n",
    "WordIn(\"word\", \"article\", amount)\n",
    "\n",
    "do we db-ify vocab? [yes]\n",
    "do we add value checks?"
   ]
  },
  {
   "cell_type": "markdown",
   "id": "d81a555f",
   "metadata": {},
   "source": [
    "Creation:\n",
    "\n",
    "CREATE TABLE Article (\n",
    "    a_id INT PRIMARY KEY,\n",
    "    title CHAR(255),\n",
    "    url CHAR(128),\n",
    "    author CHAR(64),\n",
    "    type CHAR(16),\n",
    "    scraped_at TIMESTAMP,\n",
    "    inserted_at TIMESTAMP,\n",
    "    updated_at TIMESTAMP,\n",
    "    content TEXT,\n",
    "    summary TEXT\n",
    ");\n",
    "\n",
    "CREATE TABLE Includes_keyword(\n",
    "    article INT,\n",
    "    keyword CHAR(32),\n",
    "    PRIMARY KEY (article, keyword)\n",
    ");\n",
    "\n",
    "CREATE TABLE Includes_word(\n",
    "    article INT,\n",
    "    word CHAR(47),\n",
    "    count INT,\n",
    "    PRIMARY KEY (article, word)\n",
    ");\n",
    "\n",
    "CREATE TABLE Includes_author(\n",
    "    article INT,\n",
    "    name CHAR(32),\n",
    "    PRIMARY KEY (article, name)\n",
    ");\n"
   ]
  },
  {
   "cell_type": "code",
   "execution_count": 5,
   "id": "f6ad405d",
   "metadata": {},
   "outputs": [
    {
     "name": "stdout",
     "output_type": "stream",
     "text": [
      "('PostgreSQL 13.6 on x86_64-pc-linux-gnu, compiled by gcc (GCC) 11.2.0, 64-bit',)\n"
     ]
    }
   ],
   "source": [
    "import psycopg2\n",
    "conn = psycopg2.connect(\"dbname=m2DATA user=postgres password=posty\")\n",
    "\n",
    "with conn.cursor() as cur:\n",
    "    cur.execute('SELECT version()')\n",
    "    print(cur.fetchone())"
   ]
  },
  {
   "cell_type": "code",
   "execution_count": 8,
   "id": "8d49f458",
   "metadata": {},
   "outputs": [
    {
     "ename": "InFailedSqlTransaction",
     "evalue": "current transaction is aborted, commands ignored until end of transaction block\n",
     "output_type": "error",
     "traceback": [
      "\u001b[0;31m---------------------------------------------------------------------------\u001b[0m",
      "\u001b[0;31mInFailedSqlTransaction\u001b[0m                    Traceback (most recent call last)",
      "Input \u001b[0;32mIn [8]\u001b[0m, in \u001b[0;36m<cell line: 1>\u001b[0;34m()\u001b[0m\n\u001b[1;32m      1\u001b[0m \u001b[38;5;28;01mwith\u001b[39;00m conn\u001b[38;5;241m.\u001b[39mcursor() \u001b[38;5;28;01mas\u001b[39;00m cur:\n\u001b[0;32m----> 2\u001b[0m     \u001b[43mcur\u001b[49m\u001b[38;5;241;43m.\u001b[39;49m\u001b[43mexecute\u001b[49m\u001b[43m(\u001b[49m\u001b[38;5;124;43m\"\"\"\u001b[39;49m\n\u001b[1;32m      3\u001b[0m \u001b[38;5;124;43mCREATE TABLE Article (\u001b[39;49m\n\u001b[1;32m      4\u001b[0m \u001b[38;5;124;43m    a_id INT PRIMARY KEY,\u001b[39;49m\n\u001b[1;32m      5\u001b[0m \u001b[38;5;124;43m    title CHAR(255),\u001b[39;49m\n\u001b[1;32m      6\u001b[0m \u001b[38;5;124;43m    url CHAR(128),\u001b[39;49m\n\u001b[1;32m      7\u001b[0m \u001b[38;5;124;43m    author CHAR(64),\u001b[39;49m\n\u001b[1;32m      8\u001b[0m \u001b[38;5;124;43m    type CHAR(16),\u001b[39;49m\n\u001b[1;32m      9\u001b[0m \u001b[38;5;124;43m    scraped_at DATETIME,\u001b[39;49m\n\u001b[1;32m     10\u001b[0m \u001b[38;5;124;43m    inserted_at DATETIME,\u001b[39;49m\n\u001b[1;32m     11\u001b[0m \u001b[38;5;124;43m    updated_at DATETIME,\u001b[39;49m\n\u001b[1;32m     12\u001b[0m \u001b[38;5;124;43m    content TEXT,\u001b[39;49m\n\u001b[1;32m     13\u001b[0m \u001b[38;5;124;43m    summary TEXT\u001b[39;49m\n\u001b[1;32m     14\u001b[0m \u001b[38;5;124;43m);\u001b[39;49m\n\u001b[1;32m     15\u001b[0m \u001b[38;5;124;43m\"\"\"\u001b[39;49m\u001b[43m)\u001b[49m\n\u001b[1;32m     16\u001b[0m     \u001b[38;5;28mprint\u001b[39m(cur\u001b[38;5;241m.\u001b[39mfetchone())\n",
      "\u001b[0;31mInFailedSqlTransaction\u001b[0m: current transaction is aborted, commands ignored until end of transaction block\n"
     ]
    }
   ],
   "source": [
    "\n",
    "with conn.cursor() as cur:\n",
    "    cur.execute(\"\"\" \"\"\")"
   ]
  },
  {
   "cell_type": "code",
   "execution_count": null,
   "id": "321e036b",
   "metadata": {},
   "outputs": [],
   "source": []
  },
  {
   "cell_type": "code",
   "execution_count": null,
   "id": "68763911",
   "metadata": {},
   "outputs": [],
   "source": []
  },
  {
   "cell_type": "markdown",
   "id": "cb42e5d5",
   "metadata": {},
   "source": [
    "# Milestone 2\n",
    "\n",
    "## Description\n",
    "\n",
    "After cleaning and processing our data in the first milestone, Milestone 2 will focus on how to efficiently represent the data in a database. Like last time, the milestone takes the form of a short jupyter notebook. It must be handed in on Friday, April 29, at 16:00 (in groups), and it is a requirement for attending the exam (it will be evaluated as passed/fail).\n",
    "\n",
    "\n",
    "## Task 1.\n",
    "\n",
    "The first task is to demonstrate that you have a working database containing the FakeNewsCorpus dataset. Explain your choice of schema design. You have been working on this task on a small subset of the data during the TA-sessions. For this milestone, demonstrate that your database contains a larger number of rows (e.g. one million - or however many you can reasonably work with on your available hardware), and that it supports simple queries.\n",
    "\n",
    "\n",
    "## Task 2.\n",
    "\n",
    "List the relations you have created in your database. For each relation:\n",
    "\n",
    "    list its attributes\n",
    "    list its functional dependencies.\n",
    "    list all the primary keys.\n",
    "\n",
    "Is each relation in BCNF form? If not, show how to transform the tables in BCNF and explain why it might be better (or not) to use the BCNF relations in your database.\n",
    "\n",
    "\n",
    "## Task 3.\n",
    "\n",
    "Once your database is loaded, you can start issuing queries to better understand the characteristics of the data. Formulate the following queries in the database languages requested (in the square brackets following each item) and briefly discuss what you observe when you execute them over your database:   \n",
    "\n",
    "    List the domains of news articles of reliable type and scraped at or after January 15, 2018. NOTE: Do not include duplicate domains in your answer. [Languages: relational algebra and SQL]\n",
    "    List the name(s) of the most prolific author(s) of news articles of fake type. An author is among the most prolific if it has authored as many or more fake news articles as any other author in the dataset. [Languages: extended relational algebra and SQL]\n",
    "    Count the pairs of article IDs that exhibit the exact same set of meta-keywords, but only return the pairs where the set of meta-keywords is not empty. [Language: SQL]\n",
    "\n",
    "\n",
    "## Task 4.\n",
    "\n",
    "Now that we have our data in a database, let’s revisit the “interesting observations” task from Milestone 1 - but now using queries to the database. The idea is to write database queries (e.g. using GROUP BY and COUNT) that explore features of the data set that are relevant to the fake news prediction task: outliers, artefacts. It’s OK to investigate the same issues as in Milestone 1 (now using database queries) - but you are also very welcome to come up with completely new queries. You should write at least 3 such queries.\n",
    "\n",
    "\n",
    "## Task 5.\n",
    "\n",
    "Just like last time, after the hand in deadline, each group will be asked to evaluate the work of three other groups, based on a short list of criteria that you can find within the peergrade system. Again, this will only work well if everyone puts some effort into providing constructive comments, so please allocate some time to do this properly. It is an opportunity to get some feedback that can help you improve your final project. The deadline for giving feedback is a week after the hand-in deadline\n"
   ]
  }
 ],
 "metadata": {
  "kernelspec": {
   "display_name": "Python 3 (ipykernel)",
   "language": "python",
   "name": "python3"
  },
  "language_info": {
   "codemirror_mode": {
    "name": "ipython",
    "version": 3
   },
   "file_extension": ".py",
   "mimetype": "text/x-python",
   "name": "python",
   "nbconvert_exporter": "python",
   "pygments_lexer": "ipython3",
   "version": "3.10.4"
  }
 },
 "nbformat": 4,
 "nbformat_minor": 5
}
